{
 "cells": [
  {
   "cell_type": "code",
   "execution_count": 1,
   "id": "c18ddaa1-606b-4f5c-b485-1c115a55f829",
   "metadata": {},
   "outputs": [],
   "source": [
    "import time\n",
    "from functools import reduce\n",
    "\n",
    "import pandas as pd"
   ]
  },
  {
   "cell_type": "code",
   "execution_count": 2,
   "id": "cd0b2729-e07c-47b8-a4d3-06a58e33a312",
   "metadata": {},
   "outputs": [],
   "source": [
    "# See lib.rs for details about constants\n",
    "CARD_TYPES = (\"DC\", \"CC\")\n",
    "TRANSACTION_TYPES = (\n",
    "    \"food-and-household\",\n",
    "    \"home\",\n",
    "    \"uncategorized\",\n",
    "    \"leisure-and-lifestyle\",\n",
    "    \"health-and-beauty\",\n",
    "    \"shopping-and-services\",\n",
    "    \"children\",\n",
    "    \"vacation-and-travel\",\n",
    "    \"education\",\n",
    "    \"insurance\",\n",
    "    \"investments-and-savings\",\n",
    "    \"expenses-and-other\",\n",
    "    \"cars-and-transportation\",\n",
    ")\n",
    "CHANNELS = (\"mobile\", \"web\")\n",
    "\n",
    "\n",
    "# Required time windows\n",
    "WINDOWS_IN_DAYS = (\n",
    "    7,  # week\n",
    "    14,  # two weeks\n",
    "    21,  # three weeks\n",
    "    30,  # month\n",
    "    90,  # three months\n",
    "    180,  # half of the year\n",
    "    360,  # two years\n",
    ")\n",
    "\n",
    "\n",
    "def generate_pivoted_batch(data: pd.DataFrame, t_minus: int, groups=list[str]) -> pd.DataFrame:\n",
    "    pre_agg = (\n",
    "        data\n",
    "        .loc[data[\"t_minus\"] <= t_minus]\n",
    "        .groupby([\"customer_id\"] + groups, as_index=False)\n",
    "        [\"trx_amnt\"].agg([\"count\", \"mean\", \"sum\", \"min\", \"max\"])\n",
    "    )\n",
    "    pivoted = pre_agg.pivot(\n",
    "        columns=groups,\n",
    "        index=\"customer_id\",\n",
    "        values=[\"count\", \"mean\", \"sum\", \"min\", \"max\"],\n",
    "    )\n",
    "    pivoted.columns = [\"_\".join(a[1:]) + f\"_{t_minus}d_{a[0]}\" for a in pivoted.columns.to_flat_index()]\n",
    "    return pivoted"
   ]
  },
  {
   "cell_type": "code",
   "execution_count": 3,
   "id": "3fd3fb84-6381-41b0-8465-dda314f4bba6",
   "metadata": {},
   "outputs": [
    {
     "name": "stdout",
     "output_type": "stream",
     "text": [
      "rm: cannot remove '../tmp_out': No such file or directory\n"
     ]
    }
   ],
   "source": [
    "# Rm an output parquet folder if it exists\n",
    "!rm -r \"../tmp_out\""
   ]
  },
  {
   "cell_type": "code",
   "execution_count": null,
   "id": "af3606f0-8c89-4429-bead-73d6abf4f26e",
   "metadata": {},
   "outputs": [],
   "source": [
    "path = \"../test_data_small\"\n",
    "start_time = time.time()\n",
    "\n",
    "data = pd.read_parquet(path)\n",
    "\n",
    "#  #   Column       Dtype   \n",
    "# ---  ------       -----   \n",
    "#  0   customer_id  int64   \n",
    "#  1   card_type    object  \n",
    "#  2   trx_type     object  \n",
    "#  3   channel      object  \n",
    "#  4   trx_amnt     float64 \n",
    "#  5   t_minus      int64   \n",
    "#  6   part_col     category\n",
    "\n",
    "\n",
    "dfs_list = []\n",
    "\n",
    "for win in WINDOWS_IN_DAYS:\n",
    "    # Iterate over combination card_type + trx_type\n",
    "    dfs_list.append(generate_pivoted_batch(data, win, [\"card_type\", \"trx_type\"]))\n",
    "\n",
    "    # Iterate over combination channel + trx_type\n",
    "    dfs_list.append(generate_pivoted_batch(data, win, [\"channel\", \"trx_type\"]))\n",
    "\n",
    "(\n",
    "    reduce(lambda a, b: pd.merge(a, b, left_index=True, right_index=True), dfs_list)\n",
    "    .reset_index(drop=False)\n",
    "    .to_parquet(\"../tmp_out\")\n",
    ")\n",
    "\n",
    "end_time = time.time()"
   ]
  },
  {
   "cell_type": "code",
   "execution_count": null,
   "id": "9c382114-a801-4509-9e55-c86312a109bb",
   "metadata": {},
   "outputs": [],
   "source": [
    "print(f\"Total time: {end_time - start_time} seconds\")"
   ]
  },
  {
   "cell_type": "code",
   "execution_count": null,
   "id": "ad72a932-b1d6-472a-926d-b575f1d1de95",
   "metadata": {},
   "outputs": [],
   "source": [
    "pd.read_parquet(\"../tmp_out\")"
   ]
  },
  {
   "cell_type": "code",
   "execution_count": null,
   "id": "77791d33-d8d0-4adf-9e4b-5665843bdcd4",
   "metadata": {},
   "outputs": [],
   "source": []
  }
 ],
 "metadata": {
  "kernelspec": {
   "display_name": "Python 3 (ipykernel)",
   "language": "python",
   "name": "python3"
  },
  "language_info": {
   "codemirror_mode": {
    "name": "ipython",
    "version": 3
   },
   "file_extension": ".py",
   "mimetype": "text/x-python",
   "name": "python",
   "nbconvert_exporter": "python",
   "pygments_lexer": "ipython3",
   "version": "3.11.9"
  }
 },
 "nbformat": 4,
 "nbformat_minor": 5
}
